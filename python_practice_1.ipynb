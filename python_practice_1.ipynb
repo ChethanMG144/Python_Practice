{
  "nbformat": 4,
  "nbformat_minor": 0,
  "metadata": {
    "colab": {
      "provenance": [],
      "authorship_tag": "ABX9TyOw11lVJDQtmwT5dWV2WB5H",
      "include_colab_link": true
    },
    "kernelspec": {
      "name": "python3",
      "display_name": "Python 3"
    },
    "language_info": {
      "name": "python"
    }
  },
  "cells": [
    {
      "cell_type": "markdown",
      "metadata": {
        "id": "view-in-github",
        "colab_type": "text"
      },
      "source": [
        "<a href=\"https://colab.research.google.com/github/ChethanMG144/Python_Practice/blob/Python_practice_1/python_practice_1.ipynb\" target=\"_parent\"><img src=\"https://colab.research.google.com/assets/colab-badge.svg\" alt=\"Open In Colab\"/></a>"
      ]
    },
    {
      "cell_type": "code",
      "execution_count": 1,
      "metadata": {
        "colab": {
          "base_uri": "https://localhost:8080/"
        },
        "id": "yZ5m20BSCaz1",
        "outputId": "05bb1741-96bc-4634-e833-0d87913fa448"
      },
      "outputs": [
        {
          "output_type": "stream",
          "name": "stdout",
          "text": [
            "4\n"
          ]
        }
      ],
      "source": [
        "print(4)"
      ]
    },
    {
      "cell_type": "code",
      "source": [
        "print('Please enter the numbers')\n",
        "num1 = input('please enter the 1st number:')\n",
        "num2 = input('please enter the 2nd number:')\n",
        "print('sum of the the two numbers is: ', int(num1) + int(num2))\n"
      ],
      "metadata": {
        "colab": {
          "base_uri": "https://localhost:8080/"
        },
        "id": "Wi1TZYCICh_Y",
        "outputId": "bc49eb49-2df7-4911-c546-9d2a9e93269c"
      },
      "execution_count": 4,
      "outputs": [
        {
          "output_type": "stream",
          "name": "stdout",
          "text": [
            "Please enter the numbers\n",
            "please enter the 1st number:5\n",
            "please enter the 2nd number:4\n",
            "sum of the the two numbers is:  9\n"
          ]
        }
      ]
    },
    {
      "cell_type": "code",
      "source": [
        "x,y,z = 2,3,4\n",
        "print('\\n',x,'\\n',y,'\\n',z)\n",
        "print(x,y,z,sep='\\n')\n",
        "print(x,y,z)\n",
        "print()"
      ],
      "metadata": {
        "colab": {
          "base_uri": "https://localhost:8080/"
        },
        "id": "WRWvVVviDOzh",
        "outputId": "d789aed6-3579-49a0-d21d-19952c6ba26c"
      },
      "execution_count": 36,
      "outputs": [
        {
          "output_type": "stream",
          "name": "stdout",
          "text": [
            "\n",
            " 2 \n",
            " 3 \n",
            " 4\n",
            "2\n",
            "3\n",
            "4\n",
            "2 3 4\n",
            "\n"
          ]
        }
      ]
    },
    {
      "cell_type": "code",
      "source": [
        "print('Hi Guys {0} {1} {2}'.format(0,20,num1+num2))"
      ],
      "metadata": {
        "colab": {
          "base_uri": "https://localhost:8080/"
        },
        "id": "1xx17y92Dkjh",
        "outputId": "c76b7b5d-f0c8-4ae3-cc61-ab80e1e741b9"
      },
      "execution_count": 34,
      "outputs": [
        {
          "output_type": "stream",
          "name": "stdout",
          "text": [
            "Hi Guys 0 20 54\n"
          ]
        }
      ]
    },
    {
      "cell_type": "code",
      "source": [
        "#string formatting\n",
        "#a**b; a power b\n",
        "\n",
        "#right justify syntax:- {index:>desired number of spaces}\n",
        "\n",
        "print('{0} {1}'.format(z,x**100))\n",
        "print('{0} {1:>10}'.format(z,x**100))"
      ],
      "metadata": {
        "colab": {
          "base_uri": "https://localhost:8080/"
        },
        "id": "DfIUHewgIz0R",
        "outputId": "ee88fd8e-d2b9-4bda-fc28-7984f5579922"
      },
      "execution_count": 44,
      "outputs": [
        {
          "output_type": "stream",
          "name": "stdout",
          "text": [
            "4 1267650600228229401496703205376\n",
            "4 1267650600228229401496703205376\n"
          ]
        }
      ]
    },
    {
      "cell_type": "code",
      "source": [
        "num1 = input('1st number: ')\n",
        "num2 = input('2nd number: ')\n",
        "print('Hi All. 1st number is {0} and 2nd number is {1}'.format(num1,num2))"
      ],
      "metadata": {
        "colab": {
          "base_uri": "https://localhost:8080/"
        },
        "id": "U7iGSxfrJ8JG",
        "outputId": "b25f139c-2e81-4365-e9c8-5b985e19b006"
      },
      "execution_count": 45,
      "outputs": [
        {
          "output_type": "stream",
          "name": "stdout",
          "text": [
            "1st number: 4\n",
            "2nd number: 5\n",
            "Hi All. 1st number is 4 and 2nd number is 5\n"
          ]
        }
      ]
    },
    {
      "cell_type": "code",
      "source": [],
      "metadata": {
        "id": "0leIBNaoLPXk"
      },
      "execution_count": null,
      "outputs": []
    }
  ]
}