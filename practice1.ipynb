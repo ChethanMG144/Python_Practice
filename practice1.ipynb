{
  "nbformat": 4,
  "nbformat_minor": 0,
  "metadata": {
    "colab": {
      "provenance": [],
      "collapsed_sections": [],
      "authorship_tag": "ABX9TyNYqFogy+Ve4LsWptM5eXdk",
      "include_colab_link": true
    },
    "kernelspec": {
      "name": "python3",
      "display_name": "Python 3"
    },
    "language_info": {
      "name": "python"
    }
  },
  "cells": [
    {
      "cell_type": "markdown",
      "metadata": {
        "id": "view-in-github",
        "colab_type": "text"
      },
      "source": [
        "<a href=\"https://colab.research.google.com/github/ChethanMG144/Python_Practice/blob/Python_practice_1/practice1.ipynb\" target=\"_parent\"><img src=\"https://colab.research.google.com/assets/colab-badge.svg\" alt=\"Open In Colab\"/></a>"
      ]
    },
    {
      "cell_type": "code",
      "execution_count": 1,
      "metadata": {
        "colab": {
          "base_uri": "https://localhost:8080/"
        },
        "id": "yZ5m20BSCaz1",
        "outputId": "05bb1741-96bc-4634-e833-0d87913fa448"
      },
      "outputs": [
        {
          "output_type": "stream",
          "name": "stdout",
          "text": [
            "4\n"
          ]
        }
      ],
      "source": [
        "print(4)"
      ]
    },
    {
      "cell_type": "code",
      "source": [
        "print('Please enter the numbers')\n",
        "num1 = input('please enter the 1st number:')\n",
        "num2 = input('please enter the 2nd number:')\n",
        "print('sum of the the two numbers is: ', int(num1) + int(num2))\n"
      ],
      "metadata": {
        "colab": {
          "base_uri": "https://localhost:8080/"
        },
        "id": "Wi1TZYCICh_Y",
        "outputId": "bc49eb49-2df7-4911-c546-9d2a9e93269c"
      },
      "execution_count": 4,
      "outputs": [
        {
          "output_type": "stream",
          "name": "stdout",
          "text": [
            "Please enter the numbers\n",
            "please enter the 1st number:5\n",
            "please enter the 2nd number:4\n",
            "sum of the the two numbers is:  9\n"
          ]
        }
      ]
    },
    {
      "cell_type": "code",
      "source": [
        "x,y,z = 2,3,4\n",
        "print('\\n',x,'\\n',y,'\\n',z)\n",
        "print(x,y,z,sep='\\n')\n",
        "print(x,y,z)\n",
        "print()"
      ],
      "metadata": {
        "colab": {
          "base_uri": "https://localhost:8080/"
        },
        "id": "WRWvVVviDOzh",
        "outputId": "d789aed6-3579-49a0-d21d-19952c6ba26c"
      },
      "execution_count": 36,
      "outputs": [
        {
          "output_type": "stream",
          "name": "stdout",
          "text": [
            "\n",
            " 2 \n",
            " 3 \n",
            " 4\n",
            "2\n",
            "3\n",
            "4\n",
            "2 3 4\n",
            "\n"
          ]
        }
      ]
    },
    {
      "cell_type": "code",
      "source": [
        "print('Hi Guys {0} {1} {2}'.format(0,20,num1+num2))"
      ],
      "metadata": {
        "colab": {
          "base_uri": "https://localhost:8080/"
        },
        "id": "1xx17y92Dkjh",
        "outputId": "c76b7b5d-f0c8-4ae3-cc61-ab80e1e741b9"
      },
      "execution_count": 34,
      "outputs": [
        {
          "output_type": "stream",
          "name": "stdout",
          "text": [
            "Hi Guys 0 20 54\n"
          ]
        }
      ]
    },
    {
      "cell_type": "code",
      "source": [
        "#string formatting\n",
        "#a**b; a power b\n",
        "\n",
        "#right justify syntax:- {index:>desired number of spaces}\n",
        "\n",
        "print('{0} {1}'.format(z,x**100))\n",
        "print('{0} {1:>10}'.format(z,x**100))"
      ],
      "metadata": {
        "colab": {
          "base_uri": "https://localhost:8080/"
        },
        "id": "DfIUHewgIz0R",
        "outputId": "ee88fd8e-d2b9-4bda-fc28-7984f5579922"
      },
      "execution_count": 44,
      "outputs": [
        {
          "output_type": "stream",
          "name": "stdout",
          "text": [
            "4 1267650600228229401496703205376\n",
            "4 1267650600228229401496703205376\n"
          ]
        }
      ]
    },
    {
      "cell_type": "code",
      "source": [
        "num1 = input('1st number: ')\n",
        "num2 = input('2nd number: ')\n",
        "print('Hi All. 1st number is {0} and 2nd number is {1}'.format(num1,num2))"
      ],
      "metadata": {
        "colab": {
          "base_uri": "https://localhost:8080/"
        },
        "id": "U7iGSxfrJ8JG",
        "outputId": "b25f139c-2e81-4365-e9c8-5b985e19b006"
      },
      "execution_count": 45,
      "outputs": [
        {
          "output_type": "stream",
          "name": "stdout",
          "text": [
            "1st number: 4\n",
            "2nd number: 5\n",
            "Hi All. 1st number is 4 and 2nd number is 5\n"
          ]
        }
      ]
    },
    {
      "cell_type": "code",
      "source": [
        "print('test')"
      ],
      "metadata": {
        "colab": {
          "base_uri": "https://localhost:8080/"
        },
        "id": "0leIBNaoLPXk",
        "outputId": "e4b00575-8d58-4129-8359-3aded7261ab5"
      },
      "execution_count": 47,
      "outputs": [
        {
          "output_type": "stream",
          "name": "stdout",
          "text": [
            "test\n"
          ]
        }
      ]
    },
    {
      "cell_type": "code",
      "source": [
        "new_num1 = str(num1)\n",
        "print(num1.rjust(5))\n",
        "print(num1.ljust(5))\n",
        "print(new_num1.center(5))"
      ],
      "metadata": {
        "colab": {
          "base_uri": "https://localhost:8080/"
        },
        "id": "JFiIgS2qNujp",
        "outputId": "6aace191-d00e-4436-b189-80dfdda027dd"
      },
      "execution_count": 58,
      "outputs": [
        {
          "output_type": "stream",
          "name": "stdout",
          "text": [
            "    4\n",
            "4    \n",
            "  4  \n"
          ]
        }
      ]
    },
    {
      "cell_type": "code",
      "source": [
        "## Data Structures\n",
        "# Array - one dimensional DS\n",
        "# List(Array), Tuple, Dictionary and Set"
      ],
      "metadata": {
        "id": "hh_J7l6IOtA9"
      },
      "execution_count": 59,
      "outputs": []
    },
    {
      "cell_type": "code",
      "source": [
        "lst = [0,-2,6,7]\n",
        "print(lst)\n",
        "print(lst[0])\n",
        "print(lst[1])"
      ],
      "metadata": {
        "colab": {
          "base_uri": "https://localhost:8080/"
        },
        "id": "n_1_lM2oQU87",
        "outputId": "84ce187f-bdd9-431f-a580-9a49055df2a8"
      },
      "execution_count": 62,
      "outputs": [
        {
          "output_type": "stream",
          "name": "stdout",
          "text": [
            "[0, -2, 6, 7]\n",
            "0\n",
            "-2\n"
          ]
        }
      ]
    },
    {
      "cell_type": "code",
      "source": [
        "lst[0] = 1 # reassigning the value of list"
      ],
      "metadata": {
        "id": "XzqoslfeQcMw"
      },
      "execution_count": 65,
      "outputs": []
    },
    {
      "cell_type": "code",
      "source": [
        "print(lst[0])"
      ],
      "metadata": {
        "colab": {
          "base_uri": "https://localhost:8080/"
        },
        "id": "7VRI0AvpQtwK",
        "outputId": "8330702a-6374-4571-de43-0e8ddfd4b1ed"
      },
      "execution_count": 64,
      "outputs": [
        {
          "output_type": "stream",
          "name": "stdout",
          "text": [
            "1\n"
          ]
        }
      ]
    },
    {
      "cell_type": "code",
      "source": [
        "len(lst) # get the length of the list"
      ],
      "metadata": {
        "colab": {
          "base_uri": "https://localhost:8080/"
        },
        "id": "4Sy-JzLKQv3C",
        "outputId": "173634e6-f9ed-48b2-a734-3ae434fb81db"
      },
      "execution_count": 66,
      "outputs": [
        {
          "output_type": "execute_result",
          "data": {
            "text/plain": [
              "4"
            ]
          },
          "metadata": {},
          "execution_count": 66
        }
      ]
    },
    {
      "cell_type": "code",
      "source": [
        "#slicing\n",
        "# list[begin:end:step]\n",
        "#begin:- start of the array\n",
        "#end:- end of the array\n",
        "#step:- increment\n",
        "\n",
        "new_lst = [10,20,30,40,50,60,70,80,90,100]\n",
        "\n",
        "print(new_lst)\n",
        "print('print all: ',new_lst[0:])\n",
        "print('1st 5 elements: ',new_lst[0:5])\n",
        "print('increment by 2: ',new_lst[0::2])\n",
        "print('start from last element: ', new_lst[-1::-1])"
      ],
      "metadata": {
        "colab": {
          "base_uri": "https://localhost:8080/"
        },
        "id": "_GzaNA0GQ6rP",
        "outputId": "ab5fab3c-8747-47af-8ed7-4f6ee2cc8a11"
      },
      "execution_count": 86,
      "outputs": [
        {
          "output_type": "stream",
          "name": "stdout",
          "text": [
            "[10, 20, 30, 40, 50, 60, 70, 80, 90, 100]\n",
            "print all:  [10, 20, 30, 40, 50, 60, 70, 80, 90, 100]\n",
            "1st 5 elements:  [10, 20, 30, 40, 50]\n",
            "increment by 2:  [10, 30, 50, 70, 90]\n",
            "start from last element:  [100, 90, 80, 70, 60, 50, 40, 30, 20, 10]\n"
          ]
        }
      ]
    },
    {
      "cell_type": "code",
      "source": [
        "range(20)"
      ],
      "metadata": {
        "colab": {
          "base_uri": "https://localhost:8080/"
        },
        "id": "mhYtKqhVRocs",
        "outputId": "a5f11bda-4ae1-4225-dc97-8d752499ece9"
      },
      "execution_count": 87,
      "outputs": [
        {
          "output_type": "execute_result",
          "data": {
            "text/plain": [
              "range(0, 20)"
            ]
          },
          "metadata": {},
          "execution_count": 87
        }
      ]
    },
    {
      "cell_type": "code",
      "source": [
        "list(range(20)) # convert an range to a list"
      ],
      "metadata": {
        "colab": {
          "base_uri": "https://localhost:8080/"
        },
        "id": "2k8_J1DZTde3",
        "outputId": "156f7100-19f7-4ce9-a313-b78a787ef8b5"
      },
      "execution_count": 88,
      "outputs": [
        {
          "output_type": "execute_result",
          "data": {
            "text/plain": [
              "[0, 1, 2, 3, 4, 5, 6, 7, 8, 9, 10, 11, 12, 13, 14, 15, 16, 17, 18, 19]"
            ]
          },
          "metadata": {},
          "execution_count": 88
        }
      ]
    },
    {
      "cell_type": "code",
      "source": [
        "a = list(range(20))"
      ],
      "metadata": {
        "id": "A87hTHBTTg0W"
      },
      "execution_count": 93,
      "outputs": []
    },
    {
      "cell_type": "code",
      "source": [
        "print(a)"
      ],
      "metadata": {
        "colab": {
          "base_uri": "https://localhost:8080/"
        },
        "id": "ss2IopI4Tmz8",
        "outputId": "3ecab262-6c37-4c15-8bac-06f39b11f35f"
      },
      "execution_count": 94,
      "outputs": [
        {
          "output_type": "stream",
          "name": "stdout",
          "text": [
            "[0, 1, 2, 3, 4, 5, 6, 7, 8, 9, 10, 11, 12, 13, 14, 15, 16, 17, 18, 19]\n"
          ]
        }
      ]
    },
    {
      "cell_type": "code",
      "source": [
        "print(a[5:15])"
      ],
      "metadata": {
        "colab": {
          "base_uri": "https://localhost:8080/"
        },
        "id": "fBlP6-swTpK8",
        "outputId": "40914c8c-24ab-402d-f219-8f93ff71d16d"
      },
      "execution_count": 96,
      "outputs": [
        {
          "output_type": "stream",
          "name": "stdout",
          "text": [
            "[5, 6, 7, 8, 9, 10, 11, 12, 13, 14]\n"
          ]
        }
      ]
    },
    {
      "cell_type": "code",
      "source": [
        "print(a[15])"
      ],
      "metadata": {
        "colab": {
          "base_uri": "https://localhost:8080/"
        },
        "id": "MCY5SuWtTuBZ",
        "outputId": "0165945a-ec3b-48b8-f235-c671b4044893"
      },
      "execution_count": 97,
      "outputs": [
        {
          "output_type": "stream",
          "name": "stdout",
          "text": [
            "15\n"
          ]
        }
      ]
    },
    {
      "cell_type": "code",
      "source": [
        "del a[0]"
      ],
      "metadata": {
        "id": "ZEwMEagmTvPL"
      },
      "execution_count": 98,
      "outputs": []
    },
    {
      "cell_type": "code",
      "source": [
        "print(len(a))\n",
        "print(a[0:])"
      ],
      "metadata": {
        "colab": {
          "base_uri": "https://localhost:8080/"
        },
        "id": "GWfLQweiUSWx",
        "outputId": "8265a737-6877-4054-de7d-8ba4a9eb625d"
      },
      "execution_count": 101,
      "outputs": [
        {
          "output_type": "stream",
          "name": "stdout",
          "text": [
            "19\n",
            "[1, 2, 3, 4, 5, 6, 7, 8, 9, 10, 11, 12, 13, 14, 15, 16, 17, 18, 19]\n"
          ]
        }
      ]
    },
    {
      "cell_type": "code",
      "source": [
        "print(a.reverse())\n",
        "a"
      ],
      "metadata": {
        "colab": {
          "base_uri": "https://localhost:8080/"
        },
        "id": "acVy7EEbUUv6",
        "outputId": "ca19ce84-f9cf-4de4-98b2-72c6aeeb0035"
      },
      "execution_count": 121,
      "outputs": [
        {
          "output_type": "stream",
          "name": "stdout",
          "text": [
            "None\n"
          ]
        },
        {
          "output_type": "execute_result",
          "data": {
            "text/plain": [
              "[19, 18, 17, 16, 15, 14, 13, 12, 11, 10, 9, 8, 7, 6, 5, 4, 3, 2, 1]"
            ]
          },
          "metadata": {},
          "execution_count": 121
        }
      ]
    },
    {
      "cell_type": "code",
      "source": [
        "names = ['chethan','3ni','dumma','motte']"
      ],
      "metadata": {
        "id": "P36JZ6U4UkRr"
      },
      "execution_count": 118,
      "outputs": []
    },
    {
      "cell_type": "code",
      "source": [
        "print(names)\n",
        "print(names.reverse())\n",
        "names.index('3ni')"
      ],
      "metadata": {
        "colab": {
          "base_uri": "https://localhost:8080/"
        },
        "id": "Wvk527XqU0L3",
        "outputId": "e2900a41-2219-4766-ab4e-4d2dca3b21f0"
      },
      "execution_count": 112,
      "outputs": [
        {
          "output_type": "stream",
          "name": "stdout",
          "text": [
            "['motte', 'dumma', '3ni', 'chethan']\n",
            "None\n"
          ]
        },
        {
          "output_type": "execute_result",
          "data": {
            "text/plain": [
              "1"
            ]
          },
          "metadata": {},
          "execution_count": 112
        }
      ]
    },
    {
      "cell_type": "code",
      "source": [
        "names.append('raghu')"
      ],
      "metadata": {
        "id": "VVfT58waU2yJ"
      },
      "execution_count": 127,
      "outputs": []
    },
    {
      "cell_type": "code",
      "source": [
        "del names[5]"
      ],
      "metadata": {
        "id": "VPwwC5kbVsgX"
      },
      "execution_count": 130,
      "outputs": []
    },
    {
      "cell_type": "code",
      "source": [
        "names"
      ],
      "metadata": {
        "colab": {
          "base_uri": "https://localhost:8080/"
        },
        "id": "knp3wB5XVt3z",
        "outputId": "d7819b4e-bd6f-43a9-e9b4-7bc6a0079568"
      },
      "execution_count": 131,
      "outputs": [
        {
          "output_type": "execute_result",
          "data": {
            "text/plain": [
              "['chethan', '3ni', 'dumma', 'motte', 'raghu']"
            ]
          },
          "metadata": {},
          "execution_count": 131
        }
      ]
    },
    {
      "cell_type": "code",
      "source": [
        "#2D - Two dimensional array\n",
        "a = [[1,2,3,4],[5,6,7,8]]\n",
        "print(a)\n",
        "print(a[0][2])"
      ],
      "metadata": {
        "colab": {
          "base_uri": "https://localhost:8080/"
        },
        "id": "CvyqUSNAWC0L",
        "outputId": "367052ba-3d40-4b29-c756-8eba52ddfb8a"
      },
      "execution_count": 137,
      "outputs": [
        {
          "output_type": "stream",
          "name": "stdout",
          "text": [
            "[[1, 2, 3, 4], [5, 6, 7, 8]]\n",
            "3\n"
          ]
        }
      ]
    },
    {
      "cell_type": "code",
      "source": [
        "#Tuples - are immutable(data is read only)\n",
        "#use parenthese () to declare unlike in list where we use [].\n",
        "\n",
        "\n",
        "#Dictionary -  (key,value) pairs\n",
        "# use {} to declare it - eg: a = {'chethan':496573,'ravi':496515}\n",
        "#print(a['chethan'])\n",
        "a = {'chethan':496573,'ravi':496515}\n",
        "print(a['chethan'])"
      ],
      "metadata": {
        "colab": {
          "base_uri": "https://localhost:8080/"
        },
        "id": "dHmljIBPWaYQ",
        "outputId": "1a5bdcfe-69f6-4d88-d973-5cf11a948fae"
      },
      "execution_count": 139,
      "outputs": [
        {
          "output_type": "stream",
          "name": "stdout",
          "text": [
            "496573\n"
          ]
        }
      ]
    },
    {
      "cell_type": "code",
      "source": [
        "#Sets - same as list but no duplicates allowed\n",
        "#use {} to declare it.\n",
        "basket = {'apple','banana','mango','mango'}\n",
        "basket\n",
        "print(basket)"
      ],
      "metadata": {
        "colab": {
          "base_uri": "https://localhost:8080/"
        },
        "id": "rF8al8MxY6Sr",
        "outputId": "49253a91-5e59-4784-c993-08f21081a511"
      },
      "execution_count": 141,
      "outputs": [
        {
          "output_type": "stream",
          "name": "stdout",
          "text": [
            "{'apple', 'mango', 'banana'}\n"
          ]
        }
      ]
    },
    {
      "cell_type": "code",
      "source": [],
      "metadata": {
        "id": "U-gUiZfuZVSA"
      },
      "execution_count": null,
      "outputs": []
    }
  ]
}