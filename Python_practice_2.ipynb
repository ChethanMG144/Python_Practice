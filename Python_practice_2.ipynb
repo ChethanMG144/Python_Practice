{
  "nbformat": 4,
  "nbformat_minor": 0,
  "metadata": {
    "colab": {
      "provenance": [],
      "authorship_tag": "ABX9TyNkXFEP7Rk63umqDDP70ZSv",
      "include_colab_link": true
    },
    "kernelspec": {
      "name": "python3",
      "display_name": "Python 3"
    },
    "language_info": {
      "name": "python"
    }
  },
  "cells": [
    {
      "cell_type": "markdown",
      "metadata": {
        "id": "view-in-github",
        "colab_type": "text"
      },
      "source": [
        "<a href=\"https://colab.research.google.com/github/ChethanMG144/Python_Practice/blob/Python_practice_1/Python_practice_2.ipynb\" target=\"_parent\"><img src=\"https://colab.research.google.com/assets/colab-badge.svg\" alt=\"Open In Colab\"/></a>"
      ]
    },
    {
      "cell_type": "code",
      "execution_count": null,
      "metadata": {
        "id": "ycWsAYvReyGe"
      },
      "outputs": [],
      "source": [
        "#Conditional statements\n",
        "#syntax: if condition:\n",
        "             #block\n",
        "\n",
        "if a == 'yes':\n",
        "  \"Chethan\""
      ]
    },
    {
      "cell_type": "code",
      "source": [
        "print(\"please enter two numbers to divide\")\n",
        "\n",
        "dividend = int(input('Please enter the 1st number: '))\n",
        "divisor = int(input('Please enter the 2nd number: '))\n",
        "\n",
        "if divisor != 0:\n",
        "   print(dividend, '/', divisor, '=', int(dividend/divisor))\n",
        "else:\n",
        "  print('Division by zero is not allowed')"
      ],
      "metadata": {
        "colab": {
          "base_uri": "https://localhost:8080/"
        },
        "id": "BV3qUj5hfnwn",
        "outputId": "3b811a6a-bea7-40ac-e0cd-eb72521019d9"
      },
      "execution_count": 6,
      "outputs": [
        {
          "output_type": "stream",
          "name": "stdout",
          "text": [
            "please enter two numbers to divide\n",
            "Please enter the 1st number: 8\n",
            "Please enter the 2nd number: 0\n",
            "Division by zero is not allowed\n"
          ]
        }
      ]
    },
    {
      "cell_type": "code",
      "source": [
        "#nested if else\n",
        "num = int(input('..'))\n",
        "if num > 0:\n",
        "  if num < 999: print('...')\n",
        "  else: print('...')\n",
        "else: print('...')"
      ],
      "metadata": {
        "id": "yB7jUk3RgKSB"
      },
      "execution_count": null,
      "outputs": []
    },
    {
      "cell_type": "code",
      "source": [
        "print(\"Help! My computer doesn't work!\")\n",
        "print(\"Does the computer make any sound like (fans, etc..)\")\n",
        "choice = input(\"or show any lights (y/n)\")\n",
        "\n",
        "if choice == 'n':\n",
        "   choice = input(\"Is it plugged it in? (y/n)\")\n",
        "   if choice == 'n':\n",
        "     print(\"Plug it in. If problem persis,\")\n",
        "     print(\"please run this program again.\")\n",
        "   else:\n",
        "     choice = input(\"Does the computer have any fuse? (y/n)\")\n",
        "     if choice == 'n':\n",
        "       print(\"Check the fuse. Replace it if necessary.\")\n",
        "       print(\"If the problem persists, then run the program again.\")\n",
        "     else:\n",
        "       print(\"please consult a service consultant\")\n"
      ],
      "metadata": {
        "colab": {
          "base_uri": "https://localhost:8080/"
        },
        "id": "YFYHMS9thubz",
        "outputId": "c337b061-a3a9-41dd-f7d8-cb239283ff27"
      },
      "execution_count": 10,
      "outputs": [
        {
          "output_type": "stream",
          "name": "stdout",
          "text": [
            "Help! My computer doesn't work!\n",
            "Does the computer make any sound like (fans, etc..)\n",
            "or show any lights (y/n)n\n",
            "Is it plugged it in? (y/n)y\n",
            "Does the computer have any fuse? (y/n)n\n",
            "Check the fuse. Replace it if necessary.\n",
            "If the problem persists, then run the program again.\n"
          ]
        }
      ]
    },
    {
      "cell_type": "code",
      "source": [
        "value = int(input(\"please enter value between 0 to 5\"))\n",
        "\n",
        "if value < 0:\n",
        "  print(\"Too Small\")\n",
        "else:\n",
        "  if value == 0:\n",
        "    print(\"Zero\")\n",
        "  else:\n",
        "      if value == 1:\n",
        "        print(\"One\")\n",
        "      else:\n",
        "        if value == 2:\n",
        "          print(\"Two\")\n",
        "        else:\n",
        "          if value == 3:\n",
        "            print(\"three\")\n",
        "          else:\n",
        "            if value == 4:\n",
        "              print(\"Four\")\n",
        "            else:\n",
        "              if value == 5:\n",
        "                print(\"Five\")\n",
        "              else:\n",
        "                print(\"Too Large\")\n",
        "print(\"Done\")"
      ],
      "metadata": {
        "colab": {
          "base_uri": "https://localhost:8080/"
        },
        "id": "PUKgdJBrktwW",
        "outputId": "0163c975-5773-408b-9278-b2b9740c4554"
      },
      "execution_count": 12,
      "outputs": [
        {
          "output_type": "stream",
          "name": "stdout",
          "text": [
            "please enter value between 0 to 56\n",
            "Too Large\n",
            "Done\n"
          ]
        }
      ]
    },
    {
      "cell_type": "code",
      "source": [
        "marks = [83,75,74.9,70,69.9,65,60,59.9,55,49.9,45,44.9,40,39.9,2,0]\n",
        "grades = []"
      ],
      "metadata": {
        "id": "fDdQjdFumOvK"
      },
      "execution_count": 19,
      "outputs": []
    },
    {
      "cell_type": "code",
      "source": [
        "for mark in marks:\n",
        " if mark >= 75:\n",
        "  grades.append(\"First\")\n",
        " elif 70 <= mark < 75:\n",
        "   grades.append(\"Upper Second\")\n",
        " elif 60 <= mark < 70:\n",
        "   grades.append(\"Second\")\n",
        " elif 50 <= mark < 60:\n",
        "   grades.append(\"Third\")\n",
        " elif 45 <= mark < 50:\n",
        "   grades.append(\"F1 Supp\")\n",
        " elif 40 <= mark < 45:\n",
        "   grades.append(\"F2\")\n",
        " else: grades.append(\"F3\")"
      ],
      "metadata": {
        "id": "lqLwVuhmmvJc"
      },
      "execution_count": 24,
      "outputs": []
    },
    {
      "cell_type": "code",
      "source": [
        "grades\n",
        "print(grades,sep=\",\")"
      ],
      "metadata": {
        "colab": {
          "base_uri": "https://localhost:8080/"
        },
        "id": "3K7C_FtZnRbn",
        "outputId": "6bd6b476-8c21-4607-8139-3847acfed045"
      },
      "execution_count": 26,
      "outputs": [
        {
          "output_type": "stream",
          "name": "stdout",
          "text": [
            "['First', 'First', 'Upper Second', 'Upper Second', 'First', 'First', 'Upper Second', 'Upper Second', 'Second', 'Second', 'Second', 'Third', 'Third', 'F1 Supp', 'F1 Supp', 'F2', 'F2', 'F3', 'F3', 'F3']\n"
          ]
        }
      ]
    },
    {
      "cell_type": "code",
      "source": [
        "# For loop\n",
        "for i in [5,4,3,2,1]:\n",
        "  print(\"The number is :\", i)\n",
        "print(\"Out of list\")"
      ],
      "metadata": {
        "colab": {
          "base_uri": "https://localhost:8080/"
        },
        "id": "iFV-5SWZoj4L",
        "outputId": "d0ccedb8-7810-423e-e7f8-f786757aee57"
      },
      "execution_count": 27,
      "outputs": [
        {
          "output_type": "stream",
          "name": "stdout",
          "text": [
            "The number is : 5\n",
            "The number is : 4\n",
            "The number is : 3\n",
            "The number is : 2\n",
            "The number is : 1\n",
            "Out of list\n"
          ]
        }
      ]
    },
    {
      "cell_type": "code",
      "source": [
        "list(range(10))\n",
        "#range(begin,end,step)"
      ],
      "metadata": {
        "colab": {
          "base_uri": "https://localhost:8080/"
        },
        "id": "Fna6g0jjqIbW",
        "outputId": "cf93f7f2-cec9-4cd4-a066-53dcbace39d3"
      },
      "execution_count": 29,
      "outputs": [
        {
          "output_type": "execute_result",
          "data": {
            "text/plain": [
              "[0, 1, 2, 3, 4, 5, 6, 7, 8, 9]"
            ]
          },
          "metadata": {},
          "execution_count": 29
        }
      ]
    },
    {
      "cell_type": "code",
      "source": [
        "for i in range(5):\n",
        "  print(i, end=' ')"
      ],
      "metadata": {
        "colab": {
          "base_uri": "https://localhost:8080/"
        },
        "id": "5JcLfXI1qUt9",
        "outputId": "fa08cdc5-6859-4aca-8afb-775569c834b0"
      },
      "execution_count": 32,
      "outputs": [
        {
          "output_type": "stream",
          "name": "stdout",
          "text": [
            "0 1 2 3 4 "
          ]
        }
      ]
    },
    {
      "cell_type": "code",
      "source": [
        "word = \"Apple\"\n",
        "for letter in word:\n",
        "  print(\"letter is :\", letter)"
      ],
      "metadata": {
        "colab": {
          "base_uri": "https://localhost:8080/"
        },
        "id": "LI05y8f_rKnZ",
        "outputId": "879fac9d-9367-403e-e407-7708d8c43867"
      },
      "execution_count": 33,
      "outputs": [
        {
          "output_type": "stream",
          "name": "stdout",
          "text": [
            "letter is : A\n",
            "letter is : p\n",
            "letter is : p\n",
            "letter is : l\n",
            "letter is : e\n"
          ]
        }
      ]
    },
    {
      "cell_type": "code",
      "source": [
        "frens_lst = [\"Chethan\",\"3ni\",\"Dumma\",\"motte\"]\n",
        "for myfren in frens_lst:\n",
        "  print(\"Happy New Year \", myfren)"
      ],
      "metadata": {
        "colab": {
          "base_uri": "https://localhost:8080/"
        },
        "id": "Z1vOM74trl8q",
        "outputId": "290ba53d-7b95-4ba4-d679-68c1d41c9190"
      },
      "execution_count": 34,
      "outputs": [
        {
          "output_type": "stream",
          "name": "stdout",
          "text": [
            "Happy New Year  Chethan\n",
            "Happy New Year  3ni\n",
            "Happy New Year  Dumma\n",
            "Happy New Year  motte\n"
          ]
        }
      ]
    },
    {
      "cell_type": "code",
      "source": [
        "#Excercise 1\n",
        "# Count number of vowel in a text\n",
        "vowel_word = input(\"please enter the text \")\n",
        "vowel_count = 0\n",
        "\n",
        "for let in vowel_word:\n",
        "  if let == 'a' or let == 'e' or let == 'i' or let == 'o' or let == 'u' or \\\n",
        "     let == 'A' or let == 'E' or let == 'I' or let == 'O' or let == 'U':\n",
        "     print(let,\",\",end='')\n",
        "     vowel_count = vowel_count + 1\n",
        "print('(',vowel_count,' vowels)')"
      ],
      "metadata": {
        "colab": {
          "base_uri": "https://localhost:8080/"
        },
        "id": "icIY24xwr5jD",
        "outputId": "4dc9bb47-5a3e-4370-be1e-5cc8aa9ab773"
      },
      "execution_count": 40,
      "outputs": [
        {
          "output_type": "stream",
          "name": "stdout",
          "text": [
            "please enter the text Chethan\n",
            "e ,a ,( 2  vowels)\n"
          ]
        }
      ]
    },
    {
      "cell_type": "code",
      "source": [
        "# while loop - indefinite loop\n",
        "\n",
        "max_num = 10\n",
        "\n",
        "while(max_num >= 0):\n",
        "  print(\"value is :\", max_num)\n",
        "  max_num = max_num - 1; #Ending Condition. This control is very much necessary otherwise it will goes into a infinite loop\n",
        "\n",
        "print(\"Out of loop\")\n"
      ],
      "metadata": {
        "colab": {
          "base_uri": "https://localhost:8080/"
        },
        "id": "8jJUuip4tDlB",
        "outputId": "aa0715ff-fd98-47a1-9c9e-875b4abacf87"
      },
      "execution_count": 41,
      "outputs": [
        {
          "output_type": "stream",
          "name": "stdout",
          "text": [
            "value is : 10\n",
            "value is : 9\n",
            "value is : 8\n",
            "value is : 7\n",
            "value is : 6\n",
            "value is : 5\n",
            "value is : 4\n",
            "value is : 3\n",
            "value is : 2\n",
            "value is : 1\n",
            "value is : 0\n",
            "Out of loop\n"
          ]
        }
      ]
    },
    {
      "cell_type": "code",
      "source": [
        "# interactive while loop\n",
        "num = 0\n",
        "sum = 0\n",
        "\n",
        "print('Please enter the number to add')\n",
        "while num >=0:\n",
        "  num = int(input('enter the number: '))\n",
        "  if num >= 0:\n",
        "    sum = sum + num\n",
        "print(\"total is: \", sum)"
      ],
      "metadata": {
        "colab": {
          "base_uri": "https://localhost:8080/"
        },
        "id": "3vzeziDHu9Ay",
        "outputId": "a49ef477-ffe9-46c7-8430-719591ee7735"
      },
      "execution_count": 43,
      "outputs": [
        {
          "output_type": "stream",
          "name": "stdout",
          "text": [
            "Please enter the number to add\n",
            "enter the number: 5\n",
            "enter the number: 7\n",
            "enter the number: -9\n",
            "total is:  12\n"
          ]
        }
      ]
    },
    {
      "cell_type": "code",
      "source": [
        "lng_value = 10848584530505"
      ],
      "metadata": {
        "id": "KihELfpQxb8S"
      },
      "execution_count": null,
      "outputs": []
    },
    {
      "cell_type": "code",
      "source": [
        "# Break statement\n",
        "for i in [12,16,17,24,29]:\n",
        "  if i % 2 == 1:\n",
        "    break\n",
        "print(i)\n",
        "print(\"Done!\")"
      ],
      "metadata": {
        "colab": {
          "base_uri": "https://localhost:8080/"
        },
        "id": "hANLSypXx9jL",
        "outputId": "4afec588-ce71-4b12-8936-008dd49495b9"
      },
      "execution_count": 49,
      "outputs": [
        {
          "output_type": "stream",
          "name": "stdout",
          "text": [
            "17\n",
            "Done!\n"
          ]
        }
      ]
    },
    {
      "cell_type": "code",
      "source": [
        "for i in range(10):\n",
        "  for x in range(i):\n",
        "    print(x, end=' ')\n",
        "  print(\"\")"
      ],
      "metadata": {
        "colab": {
          "base_uri": "https://localhost:8080/"
        },
        "id": "sfVkhtFNyP3i",
        "outputId": "49ee6081-5c00-4bbd-b1f6-fe74241105fb"
      },
      "execution_count": 87,
      "outputs": [
        {
          "output_type": "stream",
          "name": "stdout",
          "text": [
            "\n",
            "0 \n",
            "0 1 \n",
            "0 1 2 \n",
            "0 1 2 3 \n",
            "0 1 2 3 4 \n",
            "0 1 2 3 4 5 \n",
            "0 1 2 3 4 5 6 \n",
            "0 1 2 3 4 5 6 7 \n",
            "0 1 2 3 4 5 6 7 8 \n"
          ]
        }
      ]
    },
    {
      "cell_type": "code",
      "source": [
        "for i in range(1):\n",
        " print(i)"
      ],
      "metadata": {
        "colab": {
          "base_uri": "https://localhost:8080/"
        },
        "id": "ESqPPlVAztM4",
        "outputId": "da380797-588e-4f70-d6b0-191b9db56607"
      },
      "execution_count": 84,
      "outputs": [
        {
          "output_type": "stream",
          "name": "stdout",
          "text": [
            "0\n"
          ]
        }
      ]
    },
    {
      "cell_type": "code",
      "source": [
        "list(range(2))"
      ],
      "metadata": {
        "colab": {
          "base_uri": "https://localhost:8080/"
        },
        "id": "H9WmynH81hZg",
        "outputId": "99c2b813-0099-417d-a7b8-7cea5541649e"
      },
      "execution_count": 86,
      "outputs": [
        {
          "output_type": "execute_result",
          "data": {
            "text/plain": [
              "[0, 1]"
            ]
          },
          "metadata": {},
          "execution_count": 86
        }
      ]
    },
    {
      "cell_type": "code",
      "source": [
        "list_num = [10,4,5,7,-4,34,3,-6]"
      ],
      "metadata": {
        "id": "FH7efDUG5Pgq"
      },
      "execution_count": 90,
      "outputs": []
    },
    {
      "cell_type": "code",
      "source": [
        "sum=0\n",
        "for i in list_num:\n",
        "  sum = sum + i\n",
        "print(\"total is: \", sum)"
      ],
      "metadata": {
        "colab": {
          "base_uri": "https://localhost:8080/"
        },
        "id": "Lmct9wp-6Wlh",
        "outputId": "329a4996-6646-4307-9b62-ccf62b0a60b5"
      },
      "execution_count": 98,
      "outputs": [
        {
          "output_type": "stream",
          "name": "stdout",
          "text": [
            "total is:  53\n"
          ]
        }
      ]
    },
    {
      "cell_type": "code",
      "source": [
        "len(list_num) "
      ],
      "metadata": {
        "colab": {
          "base_uri": "https://localhost:8080/"
        },
        "id": "8bPKE95m6tw9",
        "outputId": "11507b39-7c5b-4bcc-975a-9a519870443f"
      },
      "execution_count": 99,
      "outputs": [
        {
          "output_type": "execute_result",
          "data": {
            "text/plain": [
              "8"
            ]
          },
          "metadata": {},
          "execution_count": 99
        }
      ]
    },
    {
      "cell_type": "code",
      "source": [
        "i = 0\n",
        "sum=0\n",
        "while i < len(list_num):\n",
        " sum = sum + list_num[i]\n",
        " i = i + 1\n",
        "print(sum)"
      ],
      "metadata": {
        "colab": {
          "base_uri": "https://localhost:8080/"
        },
        "id": "wuAZ_zCq8lwM",
        "outputId": "ba8df418-a407-4bba-a299-57bac087b001"
      },
      "execution_count": 100,
      "outputs": [
        {
          "output_type": "stream",
          "name": "stdout",
          "text": [
            "53\n"
          ]
        }
      ]
    },
    {
      "cell_type": "code",
      "source": [
        "# try catch\n",
        "randomList = [2,5,6,'a',7,'b',9,'c',5]\n",
        "\n",
        "sum = 0\n",
        "errors = 0\n",
        "for i in randomList:\n",
        "  try:\n",
        "    print(\"The number is :\", i)\n",
        "    sum = sum + int(i)\n",
        "  except Exception as e:\n",
        "    print(\"Oops!\", e.__class__, \"occured\")\n",
        "    errors = errors + 1\n",
        "    print()\n",
        "\n",
        "print(\"the total is \", sum, \"with\", errors, \"errors\")\n",
        "    \n",
        "\n"
      ],
      "metadata": {
        "colab": {
          "base_uri": "https://localhost:8080/"
        },
        "id": "89HX2KMx9m6E",
        "outputId": "497ae6ad-616e-4e83-d48c-fc3e78e67189"
      },
      "execution_count": 101,
      "outputs": [
        {
          "output_type": "stream",
          "name": "stdout",
          "text": [
            "The number is : 2\n",
            "The number is : 5\n",
            "The number is : 6\n",
            "The number is : a\n",
            "Oops! <class 'ValueError'> occured\n",
            "\n",
            "The number is : 7\n",
            "The number is : b\n",
            "Oops! <class 'ValueError'> occured\n",
            "\n",
            "The number is : 9\n",
            "The number is : c\n",
            "Oops! <class 'ValueError'> occured\n",
            "\n",
            "The number is : 5\n",
            "the total is  34 with 3 errors\n"
          ]
        }
      ]
    },
    {
      "cell_type": "code",
      "source": [],
      "metadata": {
        "id": "E80VnYtKBDXY"
      },
      "execution_count": null,
      "outputs": []
    }
  ]
}